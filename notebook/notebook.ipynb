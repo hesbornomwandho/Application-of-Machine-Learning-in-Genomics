{
 "cells": [
  {
   "cell_type": "markdown",
   "metadata": {},
   "source": [
    "# Machine Learning for Genomics Classification of SARS-CoV-2 variants\n",
    "\n",
    "**Participants**\n",
    "\n",
    "1. Mike Mwanga\n",
    "2. Evans Mudibo\n",
    "3. Hesbon Omwondho\n",
    "4. Awe Oleitan\n"
   ]
  },
  {
   "cell_type": "code",
   "execution_count": 15,
   "metadata": {},
   "outputs": [],
   "source": [
    "#Load libraries\n",
    "import numpy as np\n",
    "import pandas as pd\n",
    "import matplotlib.pyplot as plt\n",
    "%matplotlib inline\n",
    "\n",
    "from numpy import array\n",
    "\n",
    "from sklearn.preprocessing import LabelEncoder #applied in 1D type of dtaset\n",
    "from sklearn.preprocessing import OneHotEncoder #applied on 2D datasets\n",
    "from sklearn.preprocessing import LabelBinarizer #applied in 1D type of dtaset"
   ]
  },
  {
   "cell_type": "code",
   "execution_count": 16,
   "metadata": {},
   "outputs": [],
   "source": [
    "seq_data_aligned = pd.read_table('../data/seq_aligned.txt')\n",
    "seq_data_not_aligned = pd.read_table('../data/seq_not_aligned.txt')"
   ]
  },
  {
   "cell_type": "markdown",
   "metadata": {},
   "source": [
    "## Approach 1\n",
    "\n",
    "### Convert the sequences into kmers. Then binarize the kmers. Binary data is then fed into the CNN model"
   ]
  },
  {
   "cell_type": "code",
   "execution_count": 17,
   "metadata": {},
   "outputs": [],
   "source": [
    "data = [seq_data_aligned, seq_data_not_aligned]\n",
    "sequence_data = [seq_data_aligned, seq_data_not_aligned]\n"
   ]
  },
  {
   "cell_type": "code",
   "execution_count": 18,
   "metadata": {},
   "outputs": [],
   "source": [
    "#Convert variant ID to numeric and remove sequence ID\n",
    "\n",
    "variant = {\"gamma\" : 1, \"delta\" : 2, \"beta\":3, \"Alpha\":4, \"omicron\":5 }\n",
    "\n",
    "for seq_data in sequence_data:\n",
    "    seq_data[\"Variant_Id\"] = seq_data[\"Variant_Id\"].map(variant)"
   ]
  },
  {
   "cell_type": "markdown",
   "metadata": {},
   "source": [
    "### Convert the sequence into k-mers."
   ]
  },
  {
   "cell_type": "code",
   "execution_count": 19,
   "metadata": {},
   "outputs": [
    {
     "data": {
      "text/html": [
       "<div>\n",
       "<style scoped>\n",
       "    .dataframe tbody tr th:only-of-type {\n",
       "        vertical-align: middle;\n",
       "    }\n",
       "\n",
       "    .dataframe tbody tr th {\n",
       "        vertical-align: top;\n",
       "    }\n",
       "\n",
       "    .dataframe thead th {\n",
       "        text-align: right;\n",
       "    }\n",
       "</style>\n",
       "<table border=\"1\" class=\"dataframe\">\n",
       "  <thead>\n",
       "    <tr style=\"text-align: right;\">\n",
       "      <th></th>\n",
       "      <th>Seq_Id</th>\n",
       "      <th>Sequence</th>\n",
       "      <th>Variant_Id</th>\n",
       "      <th>Seq</th>\n",
       "    </tr>\n",
       "  </thead>\n",
       "  <tbody>\n",
       "    <tr>\n",
       "      <th>0</th>\n",
       "      <td>hCoV19/gamma/Italy/CAMUniSa10/2021|EPI_ISL_101...</td>\n",
       "      <td>attaaaggtttatacccttcccaggtaacaaaccaaccaactttcg...</td>\n",
       "      <td>1</td>\n",
       "      <td>[attaaa, ttaaag, taaagg, aaaggt, aaggtt, aggtt...</td>\n",
       "    </tr>\n",
       "    <tr>\n",
       "      <th>1</th>\n",
       "      <td>hCoV19/gamma/Italy/CAMUniSa23/2021|EPI_ISL_101...</td>\n",
       "      <td>attaaaggtttatacccttcccaggtaacaaaccaaccaactttcg...</td>\n",
       "      <td>1</td>\n",
       "      <td>[attaaa, ttaaag, taaagg, aaaggt, aaggtt, aggtt...</td>\n",
       "    </tr>\n",
       "    <tr>\n",
       "      <th>2</th>\n",
       "      <td>hCoV19/gamma/Italy/CAMUniSa111/2021|EPI_ISL_10...</td>\n",
       "      <td>attaaaggtttatacccttcccaggtaacaaaccaaccaactttcg...</td>\n",
       "      <td>1</td>\n",
       "      <td>[attaaa, ttaaag, taaagg, aaaggt, aaggtt, aggtt...</td>\n",
       "    </tr>\n",
       "    <tr>\n",
       "      <th>3</th>\n",
       "      <td>hCoV19/gamma/South Korea/NMCnCoV09/2021|EPI_IS...</td>\n",
       "      <td>agatctgttctctaaacgaactttaaaatctgtgtggctgtcactc...</td>\n",
       "      <td>1</td>\n",
       "      <td>[agatct, gatctg, atctgt, tctgtt, ctgttc, tgttc...</td>\n",
       "    </tr>\n",
       "    <tr>\n",
       "      <th>4</th>\n",
       "      <td>hCoV19/gamma/Brazil/PRBT74803FI/2021|EPI_ISL_9...</td>\n",
       "      <td>tagatctgttctctaaacgaactttaaaatctgtgtggctgtcact...</td>\n",
       "      <td>1</td>\n",
       "      <td>[tagatc, agatct, gatctg, atctgt, tctgtt, ctgtt...</td>\n",
       "    </tr>\n",
       "  </tbody>\n",
       "</table>\n",
       "</div>"
      ],
      "text/plain": [
       "                                              Seq_Id  \\\n",
       "0  hCoV19/gamma/Italy/CAMUniSa10/2021|EPI_ISL_101...   \n",
       "1  hCoV19/gamma/Italy/CAMUniSa23/2021|EPI_ISL_101...   \n",
       "2  hCoV19/gamma/Italy/CAMUniSa111/2021|EPI_ISL_10...   \n",
       "3  hCoV19/gamma/South Korea/NMCnCoV09/2021|EPI_IS...   \n",
       "4  hCoV19/gamma/Brazil/PRBT74803FI/2021|EPI_ISL_9...   \n",
       "\n",
       "                                            Sequence  Variant_Id  \\\n",
       "0  attaaaggtttatacccttcccaggtaacaaaccaaccaactttcg...           1   \n",
       "1  attaaaggtttatacccttcccaggtaacaaaccaaccaactttcg...           1   \n",
       "2  attaaaggtttatacccttcccaggtaacaaaccaaccaactttcg...           1   \n",
       "3  agatctgttctctaaacgaactttaaaatctgtgtggctgtcactc...           1   \n",
       "4  tagatctgttctctaaacgaactttaaaatctgtgtggctgtcact...           1   \n",
       "\n",
       "                                                 Seq  \n",
       "0  [attaaa, ttaaag, taaagg, aaaggt, aaggtt, aggtt...  \n",
       "1  [attaaa, ttaaag, taaagg, aaaggt, aaggtt, aggtt...  \n",
       "2  [attaaa, ttaaag, taaagg, aaaggt, aaggtt, aggtt...  \n",
       "3  [agatct, gatctg, atctgt, tctgtt, ctgttc, tgttc...  \n",
       "4  [tagatc, agatct, gatctg, atctgt, tctgtt, ctgtt...  "
      ]
     },
     "execution_count": 19,
     "metadata": {},
     "output_type": "execute_result"
    }
   ],
   "source": [
    "#function to convert sequences into kmers\n",
    "\n",
    "def getKmers(sequence, size=6):\n",
    "    return [sequence[x:x+size].lower() for x in range(len(sequence) - size + 1)]\n",
    "\n",
    "\n",
    "for seq_data in sequence_data:\n",
    "    seq_data['Seq'] = seq_data.apply(lambda x: getKmers(x['Sequence']), axis=1)\n",
    "\n",
    "\n",
    "seq_data_not_aligned.head()"
   ]
  },
  {
   "cell_type": "markdown",
   "metadata": {},
   "source": [
    "##### Converting sequences into array of numericals using label encoder. It assigns numericals based on alphaetical order. i.e \"AAAAA\" = 0,\"AAAAC\" = 2. Each uniqure k-mer will be assigned a numerical value."
   ]
  },
  {
   "cell_type": "code",
   "execution_count": 20,
   "metadata": {},
   "outputs": [],
   "source": [
    "lb = LabelBinarizer()\n",
    "for seq_data in sequence_data:\n",
    "    encoded = []\n",
    "    for seq in seq_data[\"Seq\"]:\n",
    "        value = array(seq)\n",
    "        encoded.append(lb.fit_transform(value))\n",
    "    seq_data[\"Seq_Encoded\"] = encoded"
   ]
  },
  {
   "cell_type": "code",
   "execution_count": 21,
   "metadata": {},
   "outputs": [
    {
     "data": {
      "text/html": [
       "<div>\n",
       "<style scoped>\n",
       "    .dataframe tbody tr th:only-of-type {\n",
       "        vertical-align: middle;\n",
       "    }\n",
       "\n",
       "    .dataframe tbody tr th {\n",
       "        vertical-align: top;\n",
       "    }\n",
       "\n",
       "    .dataframe thead th {\n",
       "        text-align: right;\n",
       "    }\n",
       "</style>\n",
       "<table border=\"1\" class=\"dataframe\">\n",
       "  <thead>\n",
       "    <tr style=\"text-align: right;\">\n",
       "      <th></th>\n",
       "      <th>Seq_Id</th>\n",
       "      <th>Sequence</th>\n",
       "      <th>Variant_Id</th>\n",
       "      <th>Seq</th>\n",
       "      <th>Seq_Encoded</th>\n",
       "    </tr>\n",
       "  </thead>\n",
       "  <tbody>\n",
       "    <tr>\n",
       "      <th>0</th>\n",
       "      <td>hCoV19/gamma/Italy/CAMUniSa10/2021|EPI_ISL_101...</td>\n",
       "      <td>attaaaggtttatacccttcccaggtaacaaaccaaccaactttcg...</td>\n",
       "      <td>1</td>\n",
       "      <td>[attaaa, ttaaag, taaagg, aaaggt, aaggtt, aggtt...</td>\n",
       "      <td>[[0, 0, 0, 0, 0, 0, 0, 0, 0, 0, 0, 0, 0, 0, 0,...</td>\n",
       "    </tr>\n",
       "    <tr>\n",
       "      <th>1</th>\n",
       "      <td>hCoV19/gamma/Italy/CAMUniSa23/2021|EPI_ISL_101...</td>\n",
       "      <td>attaaaggtttatacccttcccaggtaacaaaccaaccaactttcg...</td>\n",
       "      <td>1</td>\n",
       "      <td>[attaaa, ttaaag, taaagg, aaaggt, aaggtt, aggtt...</td>\n",
       "      <td>[[0, 0, 0, 0, 0, 0, 0, 0, 0, 0, 0, 0, 0, 0, 0,...</td>\n",
       "    </tr>\n",
       "    <tr>\n",
       "      <th>2</th>\n",
       "      <td>hCoV19/gamma/Italy/CAMUniSa111/2021|EPI_ISL_10...</td>\n",
       "      <td>attaaaggtttatacccttcccaggtaacaaaccaaccaactttcg...</td>\n",
       "      <td>1</td>\n",
       "      <td>[attaaa, ttaaag, taaagg, aaaggt, aaggtt, aggtt...</td>\n",
       "      <td>[[0, 0, 0, 0, 0, 0, 0, 0, 0, 0, 0, 0, 0, 0, 0,...</td>\n",
       "    </tr>\n",
       "    <tr>\n",
       "      <th>3</th>\n",
       "      <td>hCoV19/gamma/South Korea/NMCnCoV09/2021|EPI_IS...</td>\n",
       "      <td>agatctgttctctaaacgaactttaaaatctgtgtggctgtcactc...</td>\n",
       "      <td>1</td>\n",
       "      <td>[agatct, gatctg, atctgt, tctgtt, ctgttc, tgttc...</td>\n",
       "      <td>[[0, 0, 0, 0, 0, 0, 0, 0, 0, 0, 0, 0, 0, 0, 0,...</td>\n",
       "    </tr>\n",
       "    <tr>\n",
       "      <th>4</th>\n",
       "      <td>hCoV19/gamma/Brazil/PRBT74803FI/2021|EPI_ISL_9...</td>\n",
       "      <td>tagatctgttctctaaacgaactttaaaatctgtgtggctgtcact...</td>\n",
       "      <td>1</td>\n",
       "      <td>[tagatc, agatct, gatctg, atctgt, tctgtt, ctgtt...</td>\n",
       "      <td>[[0, 0, 0, 0, 0, 0, 0, 0, 0, 0, 0, 0, 0, 0, 0,...</td>\n",
       "    </tr>\n",
       "    <tr>\n",
       "      <th>...</th>\n",
       "      <td>...</td>\n",
       "      <td>...</td>\n",
       "      <td>...</td>\n",
       "      <td>...</td>\n",
       "      <td>...</td>\n",
       "    </tr>\n",
       "    <tr>\n",
       "      <th>81</th>\n",
       "      <td>hCoV19/omicron//Scotland/QEUH373F79A/2022|EPI_...</td>\n",
       "      <td>ttgtagatctgttctctaaacgaactttaaaatctgtgtggctgtc...</td>\n",
       "      <td>5</td>\n",
       "      <td>[ttgtag, tgtaga, gtagat, tagatc, agatct, gatct...</td>\n",
       "      <td>[[0, 0, 0, 0, 0, 0, 0, 0, 0, 0, 0, 0, 0, 0, 0,...</td>\n",
       "    </tr>\n",
       "    <tr>\n",
       "      <th>82</th>\n",
       "      <td>hCoV19/omicron//England/MILK3740F70/2022|EPI_I...</td>\n",
       "      <td>ttgtagatctgttctctaaacgaactttaaaatctgtgtggctgtc...</td>\n",
       "      <td>5</td>\n",
       "      <td>[ttgtag, tgtaga, gtagat, tagatc, agatct, gatct...</td>\n",
       "      <td>[[0, 0, 0, 0, 0, 0, 0, 0, 0, 0, 0, 0, 0, 0, 0,...</td>\n",
       "    </tr>\n",
       "    <tr>\n",
       "      <th>83</th>\n",
       "      <td>hCoV19/omicron//England/MILK373E151/2022|EPI_I...</td>\n",
       "      <td>ttgtagatctgttctctaaacgaactttaaaatctgtgtggctgtc...</td>\n",
       "      <td>5</td>\n",
       "      <td>[ttgtag, tgtaga, gtagat, tagatc, agatct, gatct...</td>\n",
       "      <td>[[0, 0, 0, 0, 0, 0, 0, 0, 0, 0, 0, 0, 0, 0, 0,...</td>\n",
       "    </tr>\n",
       "    <tr>\n",
       "      <th>84</th>\n",
       "      <td>hCoV19/omicron//Japan/TMDU_No229/2022|EPI_ISL_...</td>\n",
       "      <td>ttttacaggttcgcgacgtgctcgtacgtggctttggagactccgt...</td>\n",
       "      <td>5</td>\n",
       "      <td>[ttttac, tttaca, ttacag, tacagg, acaggt, caggt...</td>\n",
       "      <td>[[0, 0, 0, 0, 0, 0, 0, 0, 0, 0, 0, 0, 0, 0, 0,...</td>\n",
       "    </tr>\n",
       "    <tr>\n",
       "      <th>85</th>\n",
       "      <td>hCoV19/omicron//Japan/TMDU_No244/2022|EPI_ISL_...</td>\n",
       "      <td>ctgttttacaggttcgcgacgtgctcgtacgtggctttggagactc...</td>\n",
       "      <td>5</td>\n",
       "      <td>[ctgttt, tgtttt, gtttta, ttttac, tttaca, ttaca...</td>\n",
       "      <td>[[0, 0, 0, 0, 0, 0, 0, 0, 0, 0, 0, 0, 0, 0, 0,...</td>\n",
       "    </tr>\n",
       "  </tbody>\n",
       "</table>\n",
       "<p>86 rows × 5 columns</p>\n",
       "</div>"
      ],
      "text/plain": [
       "                                               Seq_Id  \\\n",
       "0   hCoV19/gamma/Italy/CAMUniSa10/2021|EPI_ISL_101...   \n",
       "1   hCoV19/gamma/Italy/CAMUniSa23/2021|EPI_ISL_101...   \n",
       "2   hCoV19/gamma/Italy/CAMUniSa111/2021|EPI_ISL_10...   \n",
       "3   hCoV19/gamma/South Korea/NMCnCoV09/2021|EPI_IS...   \n",
       "4   hCoV19/gamma/Brazil/PRBT74803FI/2021|EPI_ISL_9...   \n",
       "..                                                ...   \n",
       "81  hCoV19/omicron//Scotland/QEUH373F79A/2022|EPI_...   \n",
       "82  hCoV19/omicron//England/MILK3740F70/2022|EPI_I...   \n",
       "83  hCoV19/omicron//England/MILK373E151/2022|EPI_I...   \n",
       "84  hCoV19/omicron//Japan/TMDU_No229/2022|EPI_ISL_...   \n",
       "85  hCoV19/omicron//Japan/TMDU_No244/2022|EPI_ISL_...   \n",
       "\n",
       "                                             Sequence  Variant_Id  \\\n",
       "0   attaaaggtttatacccttcccaggtaacaaaccaaccaactttcg...           1   \n",
       "1   attaaaggtttatacccttcccaggtaacaaaccaaccaactttcg...           1   \n",
       "2   attaaaggtttatacccttcccaggtaacaaaccaaccaactttcg...           1   \n",
       "3   agatctgttctctaaacgaactttaaaatctgtgtggctgtcactc...           1   \n",
       "4   tagatctgttctctaaacgaactttaaaatctgtgtggctgtcact...           1   \n",
       "..                                                ...         ...   \n",
       "81  ttgtagatctgttctctaaacgaactttaaaatctgtgtggctgtc...           5   \n",
       "82  ttgtagatctgttctctaaacgaactttaaaatctgtgtggctgtc...           5   \n",
       "83  ttgtagatctgttctctaaacgaactttaaaatctgtgtggctgtc...           5   \n",
       "84  ttttacaggttcgcgacgtgctcgtacgtggctttggagactccgt...           5   \n",
       "85  ctgttttacaggttcgcgacgtgctcgtacgtggctttggagactc...           5   \n",
       "\n",
       "                                                  Seq  \\\n",
       "0   [attaaa, ttaaag, taaagg, aaaggt, aaggtt, aggtt...   \n",
       "1   [attaaa, ttaaag, taaagg, aaaggt, aaggtt, aggtt...   \n",
       "2   [attaaa, ttaaag, taaagg, aaaggt, aaggtt, aggtt...   \n",
       "3   [agatct, gatctg, atctgt, tctgtt, ctgttc, tgttc...   \n",
       "4   [tagatc, agatct, gatctg, atctgt, tctgtt, ctgtt...   \n",
       "..                                                ...   \n",
       "81  [ttgtag, tgtaga, gtagat, tagatc, agatct, gatct...   \n",
       "82  [ttgtag, tgtaga, gtagat, tagatc, agatct, gatct...   \n",
       "83  [ttgtag, tgtaga, gtagat, tagatc, agatct, gatct...   \n",
       "84  [ttttac, tttaca, ttacag, tacagg, acaggt, caggt...   \n",
       "85  [ctgttt, tgtttt, gtttta, ttttac, tttaca, ttaca...   \n",
       "\n",
       "                                          Seq_Encoded  \n",
       "0   [[0, 0, 0, 0, 0, 0, 0, 0, 0, 0, 0, 0, 0, 0, 0,...  \n",
       "1   [[0, 0, 0, 0, 0, 0, 0, 0, 0, 0, 0, 0, 0, 0, 0,...  \n",
       "2   [[0, 0, 0, 0, 0, 0, 0, 0, 0, 0, 0, 0, 0, 0, 0,...  \n",
       "3   [[0, 0, 0, 0, 0, 0, 0, 0, 0, 0, 0, 0, 0, 0, 0,...  \n",
       "4   [[0, 0, 0, 0, 0, 0, 0, 0, 0, 0, 0, 0, 0, 0, 0,...  \n",
       "..                                                ...  \n",
       "81  [[0, 0, 0, 0, 0, 0, 0, 0, 0, 0, 0, 0, 0, 0, 0,...  \n",
       "82  [[0, 0, 0, 0, 0, 0, 0, 0, 0, 0, 0, 0, 0, 0, 0,...  \n",
       "83  [[0, 0, 0, 0, 0, 0, 0, 0, 0, 0, 0, 0, 0, 0, 0,...  \n",
       "84  [[0, 0, 0, 0, 0, 0, 0, 0, 0, 0, 0, 0, 0, 0, 0,...  \n",
       "85  [[0, 0, 0, 0, 0, 0, 0, 0, 0, 0, 0, 0, 0, 0, 0,...  \n",
       "\n",
       "[86 rows x 5 columns]"
      ]
     },
     "execution_count": 21,
     "metadata": {},
     "output_type": "execute_result"
    }
   ],
   "source": [
    "sequence_data[1]"
   ]
  },
  {
   "cell_type": "code",
   "execution_count": 22,
   "metadata": {},
   "outputs": [],
   "source": [
    "seq_data_aligned = seq_data_aligned.drop([\"Seq_Id\", \"Sequence\",\"Seq\"], axis=1)\n",
    "seq_data_not_aligned = seq_data_not_aligned.drop([\"Seq_Id\", \"Sequence\",\"Seq\"], axis=1)\n"
   ]
  },
  {
   "cell_type": "code",
   "execution_count": 23,
   "metadata": {},
   "outputs": [
    {
     "data": {
      "text/html": [
       "<div>\n",
       "<style scoped>\n",
       "    .dataframe tbody tr th:only-of-type {\n",
       "        vertical-align: middle;\n",
       "    }\n",
       "\n",
       "    .dataframe tbody tr th {\n",
       "        vertical-align: top;\n",
       "    }\n",
       "\n",
       "    .dataframe thead th {\n",
       "        text-align: right;\n",
       "    }\n",
       "</style>\n",
       "<table border=\"1\" class=\"dataframe\">\n",
       "  <thead>\n",
       "    <tr style=\"text-align: right;\">\n",
       "      <th></th>\n",
       "      <th>Variant_Id</th>\n",
       "      <th>Seq_Encoded</th>\n",
       "    </tr>\n",
       "  </thead>\n",
       "  <tbody>\n",
       "    <tr>\n",
       "      <th>0</th>\n",
       "      <td>1</td>\n",
       "      <td>[[0, 0, 0, 0, 0, 0, 0, 0, 0, 0, 0, 0, 0, 0, 0,...</td>\n",
       "    </tr>\n",
       "    <tr>\n",
       "      <th>1</th>\n",
       "      <td>1</td>\n",
       "      <td>[[0, 0, 0, 0, 0, 0, 0, 0, 0, 0, 0, 0, 0, 0, 0,...</td>\n",
       "    </tr>\n",
       "    <tr>\n",
       "      <th>2</th>\n",
       "      <td>1</td>\n",
       "      <td>[[0, 0, 0, 0, 0, 0, 0, 0, 0, 0, 0, 0, 0, 0, 0,...</td>\n",
       "    </tr>\n",
       "    <tr>\n",
       "      <th>3</th>\n",
       "      <td>1</td>\n",
       "      <td>[[1, 0, 0, 0, 0, 0, 0, 0, 0, 0, 0, 0, 0, 0, 0,...</td>\n",
       "    </tr>\n",
       "    <tr>\n",
       "      <th>4</th>\n",
       "      <td>1</td>\n",
       "      <td>[[1, 0, 0, 0, 0, 0, 0, 0, 0, 0, 0, 0, 0, 0, 0,...</td>\n",
       "    </tr>\n",
       "  </tbody>\n",
       "</table>\n",
       "</div>"
      ],
      "text/plain": [
       "   Variant_Id                                        Seq_Encoded\n",
       "0           1  [[0, 0, 0, 0, 0, 0, 0, 0, 0, 0, 0, 0, 0, 0, 0,...\n",
       "1           1  [[0, 0, 0, 0, 0, 0, 0, 0, 0, 0, 0, 0, 0, 0, 0,...\n",
       "2           1  [[0, 0, 0, 0, 0, 0, 0, 0, 0, 0, 0, 0, 0, 0, 0,...\n",
       "3           1  [[1, 0, 0, 0, 0, 0, 0, 0, 0, 0, 0, 0, 0, 0, 0,...\n",
       "4           1  [[1, 0, 0, 0, 0, 0, 0, 0, 0, 0, 0, 0, 0, 0, 0,..."
      ]
     },
     "execution_count": 23,
     "metadata": {},
     "output_type": "execute_result"
    }
   ],
   "source": [
    "seq_data_aligned.head()"
   ]
  },
  {
   "cell_type": "markdown",
   "metadata": {},
   "source": [
    "## **Approach 2\n",
    "\n",
    "Given than in real-world scenarios, we will come across sequences with ambigous bases, and undetermined nucleotids, converting these into zeros by mapping will be a reasonable approach. \n",
    "\n",
    "### Convert each nucleotide to numeric values so that we maintain order of sequence in the dataset**\n",
    "\n",
    "Whether this will result to any different result in the model is something that would require further evalaution. Lets go\n",
    "\n",
    "Here we assign each nucleotide a numeric value and any ambigous bases, Ns or '-' will assigned to zeros.\n",
    "\n",
    "A-1\n",
    "C-2\n",
    "G-3\n",
    "T-4\n",
    "N - 0\n",
    "Ambigous bases - 0\n",
    "Dashes(gaps)-0\n"
   ]
  },
  {
   "cell_type": "code",
   "execution_count": 24,
   "metadata": {},
   "outputs": [],
   "source": [
    "mapping_dic = {'A':1, \"C\":2, \"G\" : 3,\"T\" : 4, \"-\" : 0, \"N\":0, \"R\" :0, \"Y\" : 0, \"K\":0, \"M\":0, \"S\":0, \"W\":0, \"B\":0}\n",
    "\n",
    "def convert_to_numeric(seq):\n",
    "    \"\"\"\n",
    "    Function to convert nucleotide sequence into numeric values.\n",
    "\n",
    "    For aligned sequences, will also be considered non-informative.\n",
    "    \"\"\"\n",
    "    seq_numeric = []\n",
    "    for base in seq:\n",
    "        seq_numeric.append(mapping_dic[base.upper()])\n",
    "    return ''.join(str(i) for i in seq_numeric)\n"
   ]
  },
  {
   "cell_type": "markdown",
   "metadata": {},
   "source": [
    "Now convert the sequences in our dataset into numeric, then convert to binary form."
   ]
  },
  {
   "cell_type": "code",
   "execution_count": 25,
   "metadata": {},
   "outputs": [],
   "source": [
    "seq_data_aligned = pd.read_table('../data/seq_aligned.txt')\n",
    "seq_data_not_aligned = pd.read_table('../data/seq_not_aligned.txt')"
   ]
  },
  {
   "cell_type": "code",
   "execution_count": 26,
   "metadata": {},
   "outputs": [],
   "source": [
    "data = [seq_data_aligned,seq_data_not_aligned]"
   ]
  },
  {
   "cell_type": "code",
   "execution_count": 27,
   "metadata": {},
   "outputs": [],
   "source": [
    "for seq_data in data:\n",
    "    seq_data[\"Variant_Id\"] = seq_data[\"Variant_Id\"].map(variant)"
   ]
  },
  {
   "cell_type": "code",
   "execution_count": 28,
   "metadata": {},
   "outputs": [],
   "source": [
    "#Apply in our dataset\n",
    "for seq_data in data:\n",
    "    seq_data['Seq_Numeric'] = seq_data.apply(lambda x: convert_to_numeric(x['Sequence']), axis=1)\n",
    "\n",
    "    seq_data['Seq_kmers'] = seq_data.apply(lambda x: getKmers(x['Seq_Numeric']), axis=1)\n",
    "\n",
    "    #numeric_data = numeric_data.drop(['Seq_Numeric','Seq_Binary'], axis=1)\n"
   ]
  },
  {
   "cell_type": "code",
   "execution_count": 29,
   "metadata": {},
   "outputs": [],
   "source": [
    "lb = LabelBinarizer()\n",
    "for seq_data in data:\n",
    "    encoded = []\n",
    "    for seq in seq_data[\"Seq_kmers\"]:\n",
    "        value = array(seq)\n",
    "        encoded.append(lb.fit_transform(value))\n",
    "    seq_data[\"Seq_Encoded\"] = encoded"
   ]
  },
  {
   "cell_type": "code",
   "execution_count": 30,
   "metadata": {},
   "outputs": [
    {
     "data": {
      "text/html": [
       "<div>\n",
       "<style scoped>\n",
       "    .dataframe tbody tr th:only-of-type {\n",
       "        vertical-align: middle;\n",
       "    }\n",
       "\n",
       "    .dataframe tbody tr th {\n",
       "        vertical-align: top;\n",
       "    }\n",
       "\n",
       "    .dataframe thead th {\n",
       "        text-align: right;\n",
       "    }\n",
       "</style>\n",
       "<table border=\"1\" class=\"dataframe\">\n",
       "  <thead>\n",
       "    <tr style=\"text-align: right;\">\n",
       "      <th></th>\n",
       "      <th>Variant_Id</th>\n",
       "      <th>Seq_Encoded</th>\n",
       "    </tr>\n",
       "  </thead>\n",
       "  <tbody>\n",
       "    <tr>\n",
       "      <th>0</th>\n",
       "      <td>1</td>\n",
       "      <td>[[0, 0, 0, 0, 0, 0, 0, 0, 0, 0, 0, 0, 0, 0, 0,...</td>\n",
       "    </tr>\n",
       "    <tr>\n",
       "      <th>1</th>\n",
       "      <td>1</td>\n",
       "      <td>[[0, 0, 0, 0, 0, 0, 0, 0, 0, 0, 0, 0, 0, 0, 0,...</td>\n",
       "    </tr>\n",
       "    <tr>\n",
       "      <th>2</th>\n",
       "      <td>1</td>\n",
       "      <td>[[0, 0, 0, 0, 0, 0, 0, 0, 0, 0, 0, 0, 0, 0, 0,...</td>\n",
       "    </tr>\n",
       "    <tr>\n",
       "      <th>3</th>\n",
       "      <td>1</td>\n",
       "      <td>[[1, 0, 0, 0, 0, 0, 0, 0, 0, 0, 0, 0, 0, 0, 0,...</td>\n",
       "    </tr>\n",
       "    <tr>\n",
       "      <th>4</th>\n",
       "      <td>1</td>\n",
       "      <td>[[1, 0, 0, 0, 0, 0, 0, 0, 0, 0, 0, 0, 0, 0, 0,...</td>\n",
       "    </tr>\n",
       "  </tbody>\n",
       "</table>\n",
       "</div>"
      ],
      "text/plain": [
       "   Variant_Id                                        Seq_Encoded\n",
       "0           1  [[0, 0, 0, 0, 0, 0, 0, 0, 0, 0, 0, 0, 0, 0, 0,...\n",
       "1           1  [[0, 0, 0, 0, 0, 0, 0, 0, 0, 0, 0, 0, 0, 0, 0,...\n",
       "2           1  [[0, 0, 0, 0, 0, 0, 0, 0, 0, 0, 0, 0, 0, 0, 0,...\n",
       "3           1  [[1, 0, 0, 0, 0, 0, 0, 0, 0, 0, 0, 0, 0, 0, 0,...\n",
       "4           1  [[1, 0, 0, 0, 0, 0, 0, 0, 0, 0, 0, 0, 0, 0, 0,..."
      ]
     },
     "execution_count": 30,
     "metadata": {},
     "output_type": "execute_result"
    }
   ],
   "source": [
    "seq_data_aligned = seq_data_aligned.drop([\"Seq_Id\", \"Sequence\", \"Seq_Numeric\",\"Seq_kmers\"], axis=1)\n",
    "seq_data_not_aligned = seq_data_not_aligned.drop([\"Seq_Id\", \"Sequence\", \"Seq_Numeric\", 'Seq_kmers'], axis=1)\n",
    "\n",
    "seq_data_aligned.head()"
   ]
  },
  {
   "cell_type": "code",
   "execution_count": 33,
   "metadata": {},
   "outputs": [],
   "source": [
    "#write to table\n",
    "\n",
    "seq_data_aligned.to_csv(\"../data/sequene_encoded_aligned.txt\", header=True, sep=\"\\t\", index=False)\n",
    "seq_data_not_aligned.to_csv(\"../data/sequene_encoded_not_aligned.txt\", header=True, sep=\"\\t\", index=False)\n"
   ]
  }
 ],
 "metadata": {
  "interpreter": {
   "hash": "31f2aee4e71d21fbe5cf8b01ff0e069b9275f58929596ceb00d14d90e3e16cd6"
  },
  "kernelspec": {
   "display_name": "Python 3.8.2 64-bit",
   "language": "python",
   "name": "python3"
  },
  "language_info": {
   "codemirror_mode": {
    "name": "ipython",
    "version": 3
   },
   "file_extension": ".py",
   "mimetype": "text/x-python",
   "name": "python",
   "nbconvert_exporter": "python",
   "pygments_lexer": "ipython3",
   "version": "3.9.5"
  },
  "orig_nbformat": 4
 },
 "nbformat": 4,
 "nbformat_minor": 2
}
